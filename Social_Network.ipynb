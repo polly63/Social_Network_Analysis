{
 "cells": [
  {
   "cell_type": "code",
   "execution_count": 1,
   "metadata": {},
   "outputs": [],
   "source": [
    "import networkx as nx"
   ]
  },
  {
   "cell_type": "code",
   "execution_count": 11,
   "metadata": {},
   "outputs": [],
   "source": [
    "def create_toy_network():\n",
    "  G = nx.DiGraph()\n",
    "  edges = [('9','7'), ('8','7'), ('8','6'), ('8','5'), ('7','6'), ('7','5'), ('6','5'), ('6','4'), ('5','4'), ('4','3'), ('4','1'), ('8','7'), ('3','2'), ('3','1'), ('2','1')]\n",
    "  G.add_edges_from(edges)\n",
    "  return G"
   ]
  },
  {
   "cell_type": "code",
   "execution_count": 3,
   "metadata": {},
   "outputs": [],
   "source": [
    "G = create_toy_network()"
   ]
  },
  {
   "cell_type": "code",
   "execution_count": 14,
   "metadata": {},
   "outputs": [],
   "source": [
    "def pagerank(G, max_iter=1000, d=0.85, has_weight=False):\n",
    "    page_rank_dict = {}\n",
    "    if has_weight is False:\n",
    "        weight=1\n",
    "    else:\n",
    "        weight=has_weight   \n",
    "    if len(G) == 0:\n",
    "        return {}\n",
    "    if not G.is_directed():\n",
    "        D = G.to_directed()\n",
    "    else:\n",
    "        D = G\n",
    "    #Transiston Matrix\n",
    "    W = nx.stochastic_graph(G, weight=weight)  \n",
    "    N = dict.fromkeys(W, 1 / W.number_of_nodes())#fixed starting vector\n",
    "    dangling_nodes = [n for n in W if W.out_degree(n, weight=weight) == 0]\n",
    "    \n",
    "    #iterate\n",
    "    for _ in range(max_iter):\n",
    "        page_rank_dict = dict.fromkeys(N.keys(), 0)\n",
    "        nodes_sum = d * sum(N[n] for n in dangling_nodes)\n",
    "        for n in page_rank_dict:\n",
    "            for i in W[n]:\n",
    "                page_rank_dict[i] += d * N[n] * W[n][i][1]\n",
    "            page_rank_dict[n] += nodes_sum * N.get(n, 0) + (1 - d) * N.get(n, 0)\n",
    "            \n",
    "        #convergence condition check\n",
    "        error = sum([abs(page_rank_dict[n] - N[n]) for n in page_rank_dict])\n",
    "        if error < W.number_of_nodes():\n",
    "            return page_rank_dict"
   ]
  },
  {
   "cell_type": "code",
   "execution_count": 15,
   "metadata": {},
   "outputs": [
    {
     "data": {
      "text/plain": [
       "{'9': 0.027160493827160494,\n",
       " '7': 0.1530864197530864,\n",
       " '8': 0.027160493827160494,\n",
       " '6': 0.10586419753086418,\n",
       " '5': 0.1530864197530864,\n",
       " '4': 0.16882716049382715,\n",
       " '3': 0.07438271604938271,\n",
       " '1': 0.21604938271604937,\n",
       " '2': 0.07438271604938271}"
      ]
     },
     "execution_count": 15,
     "metadata": {},
     "output_type": "execute_result"
    }
   ],
   "source": [
    "pagerank(G)"
   ]
  },
  {
   "cell_type": "code",
   "execution_count": null,
   "metadata": {},
   "outputs": [],
   "source": [
    "# Reference: https://gist.github.com/iinm/c79f3ab0b00c9cbdbec6#file-divrank-py-L35"
   ]
  }
 ],
 "metadata": {
  "kernelspec": {
   "display_name": "Python 3",
   "language": "python",
   "name": "python3"
  },
  "language_info": {
   "codemirror_mode": {
    "name": "ipython",
    "version": 3
   },
   "file_extension": ".py",
   "mimetype": "text/x-python",
   "name": "python",
   "nbconvert_exporter": "python",
   "pygments_lexer": "ipython3",
   "version": "3.7.3"
  }
 },
 "nbformat": 4,
 "nbformat_minor": 2
}
